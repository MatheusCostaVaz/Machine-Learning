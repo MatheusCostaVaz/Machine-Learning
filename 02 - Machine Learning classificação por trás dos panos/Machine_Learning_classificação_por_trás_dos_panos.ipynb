{
 "cells": [
  {
   "cell_type": "markdown",
   "metadata": {},
   "source": [
    "A base de dados utilizada durante o curso é proveniente da plataforma Kaggle e pode ser encontrada neste (link)[https://www.kaggle.com/datasets/mnassrib/telecom-churn-datasets]. Essa base passou por alguns tratamentos e por esse motivo está levemente diferente da disponibilizada no Kaggle.\n",
    "\n",
    "Para baixar a base de dados tratada: https://github.com/alura-cursos/ML_Classificacao_por_tras_dos_panos/tree/main/Dados"
   ]
  },
  {
   "cell_type": "code",
   "execution_count": 1,
   "metadata": {},
   "outputs": [],
   "source": [
    "import pandas as pd"
   ]
  },
  {
   "cell_type": "code",
   "execution_count": null,
   "metadata": {},
   "outputs": [],
   "source": [
    "uri = \"\""
   ]
  }
 ],
 "metadata": {
  "kernelspec": {
   "display_name": "Python 3",
   "language": "python",
   "name": "python3"
  },
  "language_info": {
   "codemirror_mode": {
    "name": "ipython",
    "version": 3
   },
   "file_extension": ".py",
   "mimetype": "text/x-python",
   "name": "python",
   "nbconvert_exporter": "python",
   "pygments_lexer": "ipython3",
   "version": "3.12.3"
  }
 },
 "nbformat": 4,
 "nbformat_minor": 2
}
