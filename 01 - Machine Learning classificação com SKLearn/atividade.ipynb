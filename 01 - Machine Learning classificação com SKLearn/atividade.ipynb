{
 "cells": [
  {
   "cell_type": "code",
   "execution_count": 37,
   "metadata": {},
   "outputs": [
    {
     "data": {
      "text/html": [
       "<div>\n",
       "<style scoped>\n",
       "    .dataframe tbody tr th:only-of-type {\n",
       "        vertical-align: middle;\n",
       "    }\n",
       "\n",
       "    .dataframe tbody tr th {\n",
       "        vertical-align: top;\n",
       "    }\n",
       "\n",
       "    .dataframe thead th {\n",
       "        text-align: right;\n",
       "    }\n",
       "</style>\n",
       "<table border=\"1\" class=\"dataframe\">\n",
       "  <thead>\n",
       "    <tr style=\"text-align: right;\">\n",
       "      <th></th>\n",
       "      <th>idade</th>\n",
       "      <th>sexo</th>\n",
       "      <th>pressao_Sistolica</th>\n",
       "      <th>colesterol</th>\n",
       "      <th>fumante</th>\n",
       "      <th>doenca</th>\n",
       "    </tr>\n",
       "  </thead>\n",
       "  <tbody>\n",
       "    <tr>\n",
       "      <th>0</th>\n",
       "      <td>25</td>\n",
       "      <td>F</td>\n",
       "      <td>120</td>\n",
       "      <td>200</td>\n",
       "      <td>Não</td>\n",
       "      <td>Não</td>\n",
       "    </tr>\n",
       "    <tr>\n",
       "      <th>1</th>\n",
       "      <td>34</td>\n",
       "      <td>M</td>\n",
       "      <td>130</td>\n",
       "      <td>220</td>\n",
       "      <td>Sim</td>\n",
       "      <td>Sim</td>\n",
       "    </tr>\n",
       "    <tr>\n",
       "      <th>2</th>\n",
       "      <td>45</td>\n",
       "      <td>M</td>\n",
       "      <td>140</td>\n",
       "      <td>240</td>\n",
       "      <td>Sim</td>\n",
       "      <td>Sim</td>\n",
       "    </tr>\n",
       "    <tr>\n",
       "      <th>3</th>\n",
       "      <td>52</td>\n",
       "      <td>F</td>\n",
       "      <td>150</td>\n",
       "      <td>250</td>\n",
       "      <td>Não</td>\n",
       "      <td>Sim</td>\n",
       "    </tr>\n",
       "    <tr>\n",
       "      <th>4</th>\n",
       "      <td>23</td>\n",
       "      <td>F</td>\n",
       "      <td>110</td>\n",
       "      <td>180</td>\n",
       "      <td>Não</td>\n",
       "      <td>Não</td>\n",
       "    </tr>\n",
       "    <tr>\n",
       "      <th>5</th>\n",
       "      <td>40</td>\n",
       "      <td>M</td>\n",
       "      <td>135</td>\n",
       "      <td>210</td>\n",
       "      <td>Sim</td>\n",
       "      <td>Sim</td>\n",
       "    </tr>\n",
       "    <tr>\n",
       "      <th>6</th>\n",
       "      <td>37</td>\n",
       "      <td>F</td>\n",
       "      <td>145</td>\n",
       "      <td>230</td>\n",
       "      <td>Sim</td>\n",
       "      <td>Sim</td>\n",
       "    </tr>\n",
       "    <tr>\n",
       "      <th>7</th>\n",
       "      <td>29</td>\n",
       "      <td>M</td>\n",
       "      <td>125</td>\n",
       "      <td>190</td>\n",
       "      <td>Não</td>\n",
       "      <td>Não</td>\n",
       "    </tr>\n",
       "    <tr>\n",
       "      <th>8</th>\n",
       "      <td>50</td>\n",
       "      <td>F</td>\n",
       "      <td>160</td>\n",
       "      <td>260</td>\n",
       "      <td>Sim</td>\n",
       "      <td>Sim</td>\n",
       "    </tr>\n",
       "    <tr>\n",
       "      <th>9</th>\n",
       "      <td>31</td>\n",
       "      <td>M</td>\n",
       "      <td>128</td>\n",
       "      <td>200</td>\n",
       "      <td>Não</td>\n",
       "      <td>Não</td>\n",
       "    </tr>\n",
       "  </tbody>\n",
       "</table>\n",
       "</div>"
      ],
      "text/plain": [
       "   idade sexo  pressao_Sistolica  colesterol fumante doenca\n",
       "0     25    F                120         200     Não    Não\n",
       "1     34    M                130         220     Sim    Sim\n",
       "2     45    M                140         240     Sim    Sim\n",
       "3     52    F                150         250     Não    Sim\n",
       "4     23    F                110         180     Não    Não\n",
       "5     40    M                135         210     Sim    Sim\n",
       "6     37    F                145         230     Sim    Sim\n",
       "7     29    M                125         190     Não    Não\n",
       "8     50    F                160         260     Sim    Sim\n",
       "9     31    M                128         200     Não    Não"
      ]
     },
     "execution_count": 37,
     "metadata": {},
     "output_type": "execute_result"
    }
   ],
   "source": [
    "import pandas as pd\n",
    "from sklearn.preprocessing import StandardScaler\n",
    "from sklearn.tree import DecisionTreeClassifier\n",
    "from sklearn.dummy import DummyClassifier\n",
    "import numpy as np\n",
    "import seaborn as sns\n",
    "from sklearn.tree import export_graphviz\n",
    "import graphviz\n",
    "import os\n",
    "os.environ[\"PATH\"] += os.pathsep + 'C:\\\\Program Files\\\\Graphviz\\\\bin'\n",
    "\n",
    "\n",
    "\n",
    "# Criando um DataFrame com os dados fictícios\n",
    "data = {\n",
    "    'idade': [25, 34, 45, 52, 23, 40, 37, 29, 50, 31],\n",
    "    'sexo': ['F', 'M', 'M', 'F', 'F', 'M', 'F', 'M', 'F', 'M'],\n",
    "    'pressao_Sistolica': [120, 130, 140, 150, 110, 135, 145, 125, 160, 128],\n",
    "    'colesterol': [200, 220, 240, 250, 180, 210, 230, 190, 260, 200],\n",
    "    'fumante': ['Não', 'Sim', 'Sim', 'Não', 'Não', 'Sim', 'Sim', 'Não', 'Sim', 'Não'],\n",
    "    'doenca': ['Não', 'Sim', 'Sim', 'Sim', 'Não', 'Sim', 'Sim', 'Não', 'Sim', 'Não']\n",
    "}\n",
    "\n",
    "dados = pd.DataFrame(data)\n",
    "dados\n"
   ]
  },
  {
   "cell_type": "code",
   "execution_count": 38,
   "metadata": {},
   "outputs": [
    {
     "data": {
      "text/html": [
       "<div>\n",
       "<style scoped>\n",
       "    .dataframe tbody tr th:only-of-type {\n",
       "        vertical-align: middle;\n",
       "    }\n",
       "\n",
       "    .dataframe tbody tr th {\n",
       "        vertical-align: top;\n",
       "    }\n",
       "\n",
       "    .dataframe thead th {\n",
       "        text-align: right;\n",
       "    }\n",
       "</style>\n",
       "<table border=\"1\" class=\"dataframe\">\n",
       "  <thead>\n",
       "    <tr style=\"text-align: right;\">\n",
       "      <th></th>\n",
       "      <th>idade</th>\n",
       "      <th>sexo</th>\n",
       "      <th>pressao_Sistolica</th>\n",
       "      <th>colesterol</th>\n",
       "      <th>fumante</th>\n",
       "      <th>doenca</th>\n",
       "    </tr>\n",
       "  </thead>\n",
       "  <tbody>\n",
       "    <tr>\n",
       "      <th>0</th>\n",
       "      <td>25</td>\n",
       "      <td>1</td>\n",
       "      <td>120</td>\n",
       "      <td>200</td>\n",
       "      <td>0</td>\n",
       "      <td>0</td>\n",
       "    </tr>\n",
       "    <tr>\n",
       "      <th>1</th>\n",
       "      <td>34</td>\n",
       "      <td>0</td>\n",
       "      <td>130</td>\n",
       "      <td>220</td>\n",
       "      <td>1</td>\n",
       "      <td>1</td>\n",
       "    </tr>\n",
       "    <tr>\n",
       "      <th>2</th>\n",
       "      <td>45</td>\n",
       "      <td>0</td>\n",
       "      <td>140</td>\n",
       "      <td>240</td>\n",
       "      <td>1</td>\n",
       "      <td>1</td>\n",
       "    </tr>\n",
       "    <tr>\n",
       "      <th>3</th>\n",
       "      <td>52</td>\n",
       "      <td>1</td>\n",
       "      <td>150</td>\n",
       "      <td>250</td>\n",
       "      <td>0</td>\n",
       "      <td>1</td>\n",
       "    </tr>\n",
       "    <tr>\n",
       "      <th>4</th>\n",
       "      <td>23</td>\n",
       "      <td>1</td>\n",
       "      <td>110</td>\n",
       "      <td>180</td>\n",
       "      <td>0</td>\n",
       "      <td>0</td>\n",
       "    </tr>\n",
       "  </tbody>\n",
       "</table>\n",
       "</div>"
      ],
      "text/plain": [
       "   idade  sexo  pressao_Sistolica  colesterol  fumante  doenca\n",
       "0     25     1                120         200        0       0\n",
       "1     34     0                130         220        1       1\n",
       "2     45     0                140         240        1       1\n",
       "3     52     1                150         250        0       1\n",
       "4     23     1                110         180        0       0"
      ]
     },
     "execution_count": 38,
     "metadata": {},
     "output_type": "execute_result"
    }
   ],
   "source": [
    "a_trocar = {\n",
    "    'Não' : 0,\n",
    "    'Sim' : 1     \n",
    "}\n",
    "\n",
    "s_trocar ={\n",
    "    'M' : 0,\n",
    "    'F' : 1\n",
    "}\n",
    "\n",
    "dados.doenca = dados.doenca.map(a_trocar)\n",
    "dados.fumante = dados.fumante.map(a_trocar)\n",
    "dados.sexo = dados.sexo.map(s_trocar)\n",
    "\n",
    "x = dados[[\"idade\", \"sexo\", \"pressao_Sistolica\", \"colesterol\", \"fumante\"]]\n",
    "y = dados [\"doenca\"]\n",
    "\n",
    "dados.head()"
   ]
  },
  {
   "cell_type": "code",
   "execution_count": 39,
   "metadata": {},
   "outputs": [
    {
     "data": {
      "text/plain": [
       "(10, 6)"
      ]
     },
     "execution_count": 39,
     "metadata": {},
     "output_type": "execute_result"
    }
   ],
   "source": [
    "dados.shape"
   ]
  },
  {
   "cell_type": "code",
   "execution_count": 40,
   "metadata": {},
   "outputs": [],
   "source": [
    "treino_x = x[:7]\n",
    "treino_y = y[:7]\n",
    "teste_x = x [7:]\n",
    "teste_y = y[7:]\n",
    "\n",
    "# print(\"Treinaremos com %d elementos e testaremos com %d elementos\" % (len(treino_x), len(teste_x)))"
   ]
  },
  {
   "cell_type": "code",
   "execution_count": 41,
   "metadata": {},
   "outputs": [
    {
     "name": "stdout",
     "output_type": "stream",
     "text": [
      "A acurácia foi 33.33%\n"
     ]
    }
   ],
   "source": [
    "from sklearn.svm import LinearSVC\n",
    "from sklearn.metrics import accuracy_score\n",
    "\n",
    "modelo = LinearSVC()\n",
    "modelo.fit(treino_x, treino_y)\n",
    "previssoes = modelo.predict(teste_x)\n",
    "\n",
    "acuracia = accuracy_score(teste_y, previssoes) * 100\n",
    "\n",
    "print(\"A acurácia foi %.2f%%\" % acuracia)"
   ]
  },
  {
   "cell_type": "code",
   "execution_count": 42,
   "metadata": {},
   "outputs": [
    {
     "name": "stdout",
     "output_type": "stream",
     "text": [
      "Treinaremos com 7 elementos e testaremos com 3 elementos\n",
      "A acurácia foi 100.00%\n"
     ]
    }
   ],
   "source": [
    "from sklearn.model_selection import train_test_split\n",
    "from sklearn.svm import LinearSVC\n",
    "from sklearn.metrics import accuracy_score\n",
    "\n",
    "SEED = 5\n",
    "\n",
    "\n",
    "treino_x, teste_x, treino_y, teste_y = train_test_split(x, y,\n",
    "                                                        random_state = SEED, test_size = 0.25,\n",
    "                                                        stratify = y)\n",
    "print(\"Treinaremos com %d elementos e testaremos com %d elementos\" % (len(treino_x), len(teste_x)))\n",
    "\n",
    "modelo = LinearSVC()\n",
    "modelo.fit(treino_x, treino_y)\n",
    "previssoes = modelo.predict(teste_x)\n",
    "\n",
    "acuracia = accuracy_score(teste_y, previssoes) * 100\n",
    "\n",
    "print(\"A acurácia foi %.2f%%\" % acuracia)"
   ]
  },
  {
   "cell_type": "code",
   "execution_count": 43,
   "metadata": {},
   "outputs": [
    {
     "data": {
      "text/plain": [
       "<Axes: xlabel='idade', ylabel='colesterol'>"
      ]
     },
     "execution_count": 43,
     "metadata": {},
     "output_type": "execute_result"
    },
    {
     "data": {
      "image/png": "[encoded data removed]",
      "text/plain": [
       "<Figure size 640x480 with 1 Axes>"
      ]
     },
     "metadata": {},
     "output_type": "display_data"
    }
   ],
   "source": [
    "sns.scatterplot(x=\"idade\", y=\"colesterol\", hue=\"doenca\", data=dados)"
   ]
  },
  {
   "cell_type": "code",
   "execution_count": 44,
   "metadata": {},
   "outputs": [
    {
     "data": {
      "text/plain": [
       "<Axes: xlabel='idade', ylabel='pressao_Sistolica'>"
      ]
     },
     "execution_count": 44,
     "metadata": {},
     "output_type": "execute_result"
    },
    {
     "data": {
      "image/png": "[encoded data removed]",
      "text/plain": [
       "<Figure size 640x480 with 1 Axes>"
      ]
     },
     "metadata": {},
     "output_type": "display_data"
    }
   ],
   "source": [
    "sns.scatterplot(x=\"idade\", y=\"pressao_Sistolica\", hue=\"doenca\", data=dados)\n"
   ]
  },
  {
   "cell_type": "code",
   "execution_count": 45,
   "metadata": {},
   "outputs": [
    {
     "name": "stdout",
     "output_type": "stream",
     "text": [
      "A acurácia do dummy stratified foi 33.33%\n"
     ]
    }
   ],
   "source": [
    "dummy_stratified = DummyClassifier(strategy='stratified')\n",
    "dummy_stratified.fit(treino_x, treino_y)\n",
    "acuracia = dummy_stratified.score(teste_x, teste_y) * 100\n",
    "\n",
    "\n",
    "# acuracia = accuracy_score(teste_y, previsoes) * 100\n",
    "print(\"A acurácia do dummy stratified foi %.2f%%\" % acuracia)"
   ]
  },
  {
   "cell_type": "code",
   "execution_count": 46,
   "metadata": {},
   "outputs": [
    {
     "name": "stdout",
     "output_type": "stream",
     "text": [
      "A acurácia do dummy mostfrequent foi 66.67%\n"
     ]
    }
   ],
   "source": [
    "dummy_mostfrequent = DummyClassifier(strategy=\"most_frequent\")\n",
    "dummy_mostfrequent.fit(treino_x, treino_y)\n",
    "acuracia = dummy_mostfrequent.score(teste_x, teste_y) * 100\n",
    "\n",
    "# acuracia = accuracy_score(teste_y, previsoes) * 100\n",
    "print(\"A acurácia do dummy mostfrequent foi %.2f%%\" % acuracia)"
   ]
  },
  {
   "cell_type": "code",
   "execution_count": 57,
   "metadata": {},
   "outputs": [
    {
     "name": "stdout",
     "output_type": "stream",
     "text": [
      "Treinaremos com 7 elementos e testaremos com 3 elementos\n",
      "A acurácia foi 100.00%\n"
     ]
    }
   ],
   "source": [
    "SEED = 5\n",
    "np.random.seed(SEED)\n",
    "\n",
    "raw_treino_x, raw_teste_x, treino_y, teste_y = train_test_split(x, y, test_size = 0.25,\n",
    "                                                        stratify = y)\n",
    "print(\"Treinaremos com %d elementos e testaremos com %d elementos\" % (len(treino_x), len(teste_x)))\n",
    "\n",
    "scaler = StandardScaler()\n",
    "scaler.fit(raw_treino_x)\n",
    "treino_x = scaler.transform(raw_treino_x)\n",
    "teste_x = scaler.transform(raw_teste_x)\n",
    "\n",
    "modelo = DecisionTreeClassifier()\n",
    "modelo.fit(raw_treino_x, treino_y)\n",
    "previssoes = modelo.predict(raw_teste_x)\n",
    "\n",
    "acuracia = accuracy_score(teste_y, previssoes) * 100\n",
    "print(\"A acurácia foi %.2f%%\" % acuracia)"
   ]
  },
  {
   "cell_type": "code",
   "execution_count": 58,
   "metadata": {},
   "outputs": [
    {
     "data": {
      "text/plain": [
       "'Source.gv.pdf'"
      ]
     },
     "execution_count": 58,
     "metadata": {},
     "output_type": "execute_result"
    }
   ],
   "source": [
    "features = x.columns\n",
    "dot_data = export_graphviz(modelo, out_file=None,\n",
    "                           filled=True, rounded=True,\n",
    "                           feature_names= features,\n",
    "                           class_names=[\"Não\", \"Sim\"])\n",
    "\n",
    "grafico = graphviz.Source(dot_data)\n",
    "\n",
    "grafico.view()"
   ]
  }
 ],
 "metadata": {
  "kernelspec": {
   "display_name": "Python 3",
   "language": "python",
   "name": "python3"
  },
  "language_info": {
   "codemirror_mode": {
    "name": "ipython",
    "version": 3
   },
   "file_extension": ".py",
   "mimetype": "text/x-python",
   "name": "python",
   "nbconvert_exporter": "python",
   "pygments_lexer": "ipython3",
   "version": "3.12.3"
  }
 },
 "nbformat": 4,
 "nbformat_minor": 2
}
